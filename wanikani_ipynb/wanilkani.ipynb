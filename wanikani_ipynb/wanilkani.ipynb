{
 "cells": [
  {
   "cell_type": "code",
   "execution_count": 1,
   "metadata": {},
   "outputs": [
    {
     "name": "stdout",
     "output_type": "stream",
     "text": [
      "CURRENT LVL: 4. PROGRESS: 0 KANJI-GURU'S OUT OF 39\n",
      "NUM OF RADS IN THE LVL: 33. KANS: 39. VOCS: 16\n",
      "ACTIVE LESSONS: 25 \n",
      "ACTIVE REVIEWS: 8\n"
     ]
    }
   ],
   "source": [
    "import pickle\n",
    "from wanikani import *\n",
    "with open('FIT_DATAS.pkl', 'rb') as inp:\n",
    "    account=wanikani(*pickle.load(inp))\n",
    "account.info()"
   ]
  },
  {
   "cell_type": "code",
   "execution_count": null,
   "metadata": {},
   "outputs": [],
   "source": [
    "account.lesson(5,translate=True)\n",
    "clear_output(wait=True)"
   ]
  },
  {
   "cell_type": "code",
   "execution_count": null,
   "metadata": {},
   "outputs": [],
   "source": [
    "account.review()\n",
    "clear_output(wait=True)"
   ]
  },
  {
   "cell_type": "code",
   "execution_count": null,
   "metadata": {},
   "outputs": [],
   "source": [
    "TODAY,TOMORROW = account.review_forecast()"
   ]
  },
  {
   "cell_type": "code",
   "execution_count": 3,
   "metadata": {},
   "outputs": [
    {
     "name": "stdout",
     "output_type": "stream",
     "text": [
      "wanikani class has the following methods:\n",
      "account.lesson(N) -- activates avaliable lessons by rule: learn 'N' hieroglyphs a time and instantly review them\n",
      "account.review -- activates avaliable reviews; if mistake was made several times you can 'surrender' and peep the answer\n",
      "account.info -- returns basik info about account progress including avaliable lessons and reviews\n",
      "account.review_forecast -- displays review forecast for today and tomorrow depending on your local time; also returns corresponding lists of hieroglyphs\n",
      "account.refresh_everything(time) -- shifts back the time of the last review by 'time' seconds; (probably better dont use it)\n",
      "if you want to see the more info about particular hieroglyph, use account.DIC_NAMES[(TYPE,MEANING)].info(), where the TYPE is the type of hieroglyph - 'rad','kan' or 'voc'\n"
     ]
    }
   ],
   "source": [
    "account.help()"
   ]
  }
 ],
 "metadata": {
  "interpreter": {
   "hash": "aee8b7b246df8f9039afb4144a1f6fd8d2ca17a180786b69acc140d282b71a49"
  },
  "kernelspec": {
   "display_name": "Python 3.10.0 64-bit",
   "language": "python",
   "name": "python3"
  },
  "language_info": {
   "codemirror_mode": {
    "name": "ipython",
    "version": 3
   },
   "file_extension": ".py",
   "mimetype": "text/x-python",
   "name": "python",
   "nbconvert_exporter": "python",
   "pygments_lexer": "ipython3",
   "version": "3.10.0"
  },
  "orig_nbformat": 4
 },
 "nbformat": 4,
 "nbformat_minor": 2
}

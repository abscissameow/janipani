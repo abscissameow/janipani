{
 "cells": [
  {
   "cell_type": "code",
   "execution_count": 7,
   "metadata": {},
   "outputs": [
    {
     "data": {
      "text/plain": [
       "'WaniKani / Kanji / 了'"
      ]
     },
     "execution_count": 7,
     "metadata": {},
     "output_type": "execute_result"
    }
   ],
   "source": [
    "from bs4 import BeautifulSoup\n",
    "\n",
    "with open(\"a.html\") as fp:\n",
    "    soup = BeautifulSoup(fp, \"html.parser\")\n",
    "soup.head.title.text"
   ]
  },
  {
   "cell_type": "code",
   "execution_count": 17,
   "metadata": {},
   "outputs": [
    {
     "data": {
      "text/plain": [
       "'WaniKani / Vocabulary / 八'"
      ]
     },
     "execution_count": 17,
     "metadata": {},
     "output_type": "execute_result"
    }
   ],
   "source": [
    "import urllib\n",
    "f = urllib.request.urlopen(\"http://wanikani.com/vocabulary/%E5%85%AB\") \n",
    "soup = BeautifulSoup(f)\n",
    "soup.head.title.text"
   ]
  },
  {
   "cell_type": "code",
   "execution_count": 50,
   "metadata": {},
   "outputs": [],
   "source": [
    "import re\n",
    "from bs4 import BeautifulSoup\n",
    "\n",
    "URL_LVL_DICT_RAD,URL_LVL_DICT_KAN,URL_LVL_DICT_VOC={},{},{}\n",
    "for i in range(1,61):\n",
    "    soup = BeautifulSoup(urllib.request.urlopen(f\"http://wanikani.com/level/{i}\") )\n",
    "    for j in soup.find_all('a', {'href': re.compile(r'radicals/')}):\n",
    "        URL_LVL_DICT_RAD[i]=URL_LVL_DICT_RAD.get(i,[])+['http://wanikani.com'+j['href']]\n",
    "    for j in soup.find_all('a', {'href': re.compile(r'kanji/')}):\n",
    "        URL_LVL_DICT_KAN[i]=URL_LVL_DICT_KAN.get(i,[])+['http://wanikani.com'+j['href']]\n",
    "    for j in soup.find_all('a', {'href': re.compile(r'vocabulary/')}):\n",
    "        URL_LVL_DICT_VOC[i]=URL_LVL_DICT_VOC.get(i,[])+['http://wanikani.com'+j['href']]"
   ]
  },
  {
   "cell_type": "code",
   "execution_count": 80,
   "metadata": {},
   "outputs": [
    {
     "name": "stdout",
     "output_type": "stream",
     "text": [
      "Affair\n",
      "Infidelity\n",
      "noun, する verb, な adjective\n"
     ]
    }
   ],
   "source": [
    "f = urllib.request.urlopen(URL_LVL_DICT_VOC[30][0]) \n",
    "soup = BeautifulSoup(f)\n",
    "for i in soup.find_all(\"p\", class_=\"text-gray-700\"):\n",
    "    print(i.text)"
   ]
  },
  {
   "cell_type": "code",
   "execution_count": 94,
   "metadata": {},
   "outputs": [
    {
     "name": "stdout",
     "output_type": "stream",
     "text": [
      "WaniKani / Kanji / 更\n"
     ]
    },
    {
     "data": {
      "text/plain": [
       "\"In the ground of the rice paddy is a treasure. You pull it out of the mucky ground. This will renew your life for the better. Again, this treasure will change your life! Pull out the treasure. Think about all the things you will be able to renew in your life. Your car. Your boat. Your house. You lost it all but now you'll be able to get it back.\""
      ]
     },
     "execution_count": 94,
     "metadata": {},
     "output_type": "execute_result"
    }
   ],
   "source": [
    "f = urllib.request.urlopen(URL_LVL_DICT_KAN[30][0]) \n",
    "soup = BeautifulSoup(f)\n",
    "print(soup.head.title.text)\n",
    "l=soup.find_all('section', class_=\"mnemonic-content mnemonic-content--new\")\n",
    "l[0].text.replace('\\n\\n Hints\\n',' ').replace('\\n','')"
   ]
  },
  {
   "cell_type": "code",
   "execution_count": 130,
   "metadata": {},
   "outputs": [
    {
     "name": "stdout",
     "output_type": "stream",
     "text": [
      "WaniKani / Vocabulary / 浮気\n",
      "うわき\n"
     ]
    }
   ],
   "source": [
    "f = urllib.request.urlopen(URL_LVL_DICT_VOC[30][0]) \n",
    "soup = BeautifulSoup(f)\n",
    "print(soup.head.title.text)\n",
    "for i in soup.find_all('p', class_=\"pronunciation-variant\"):\n",
    "    print(i.text)\n"
   ]
  },
  {
   "cell_type": "code",
   "execution_count": 113,
   "metadata": {},
   "outputs": [
    {
     "name": "stdout",
     "output_type": "stream",
     "text": [
      "WaniKani / Kanji / 娘\n",
      "むすめ\n"
     ]
    }
   ],
   "source": [
    "f = urllib.request.urlopen(URL_LVL_DICT_KAN[29][10]) \n",
    "soup = BeautifulSoup(f)\n",
    "print(soup.head.title.text)\n",
    "for i in soup.find_all(\"div\", class_=\"span4 reading--onyomi\"):\n",
    "    print(i.text.replace('Kun’yomi','').strip())\n",
    "for i in soup.find_all(\"div\", class_=\"span4 reading--kunyomi\"):\n",
    "    print(i.text.replace('Kun’yomi','').strip())"
   ]
  },
  {
   "cell_type": "code",
   "execution_count": 115,
   "metadata": {},
   "outputs": [
    {
     "name": "stdout",
     "output_type": "stream",
     "text": [
      "WaniKani / Kanji / 娘\n",
      "じょう\n"
     ]
    }
   ],
   "source": [
    "f = urllib.request.urlopen(URL_LVL_DICT_KAN[29][10]) \n",
    "soup = BeautifulSoup(f)\n",
    "print(soup.head.title.text)\n",
    "for i in soup.find_all(\"div\", class_=\"span4 reading--kunyomi muted-content\"):\n",
    "    print(i.text.replace('Kun’yomi','').strip())\n",
    "for i in soup.find_all(\"div\", class_=\"span4 reading--onyomi muted-content\"):\n",
    "    print(i.text.replace(\"On’yomi\",'').strip())"
   ]
  },
  {
   "cell_type": "code",
   "execution_count": 118,
   "metadata": {},
   "outputs": [
    {
     "name": "stdout",
     "output_type": "stream",
     "text": [
      "WaniKani / Kanji / 越\n",
      "Radical Combination                    走                  Run                     成                  Become \n"
     ]
    }
   ],
   "source": [
    "f = urllib.request.urlopen(URL_LVL_DICT_KAN[30][10]) \n",
    "soup = BeautifulSoup(f)\n",
    "print(soup.head.title.text)\n",
    "for i in soup.find_all('section', id=\"components\"):\n",
    "    print(i.text.replace('\\n',''))"
   ]
  },
  {
   "cell_type": "code",
   "execution_count": 124,
   "metadata": {},
   "outputs": [
    {
     "name": "stdout",
     "output_type": "stream",
     "text": [
      "WaniKani / Vocabulary / 大人\n",
      "これは、大人のりょうきんです。\n",
      "This is the adult price.\n",
      "\n",
      "\n",
      "大人は三人だけです。\n",
      "There are only three adults.\n",
      "\n",
      "\n",
      "大人たちはいざかやにいった。\n",
      "The adults went to an izakaya.\n"
     ]
    }
   ],
   "source": [
    "f = urllib.request.urlopen(URL_LVL_DICT_VOC[1][0]) \n",
    "soup = BeautifulSoup(f)\n",
    "print(soup.head.title.text)\n",
    "for i in soup.find_all('section', id=\"context\", class_=\"context-sentence\"):\n",
    "    print(i.text.replace('Context','').replace('Sentences','').strip())"
   ]
  },
  {
   "cell_type": "code",
   "execution_count": null,
   "metadata": {},
   "outputs": [],
   "source": [
    "from html2image import Html2Image\n",
    "import math\n",
    "hti = Html2Image()\n",
    "hti.screenshot(html_file='a.html', save_as='a.png',size=(79, 48))\n",
    "length=N*25+(N-1)*2.5+26"
   ]
  },
  {
   "cell_type": "code",
   "execution_count": 77,
   "metadata": {},
   "outputs": [
    {
     "name": "stderr",
     "output_type": "stream",
     "text": [
      "objc[19874]: Class WebSwapCGLLayer is implemented in both /System/Library/Frameworks/WebKit.framework/Versions/A/Frameworks/WebCore.framework/Versions/A/Frameworks/libANGLE-shared.dylib (0x7ffa4b58a318) and /Applications/Google Chrome.app/Contents/Frameworks/Google Chrome Framework.framework/Versions/103.0.5060.53/Libraries/libGLESv2.dylib (0x10c379d18). One of the two will be used. Which one is undefined.\n",
      "[0630/234132.467427:ERROR:command_buffer_proxy_impl.cc(128)] ContextResult::kTransientFailure: Failed to send GpuControl.CreateCommandBuffer.\n",
      "[0630/234132.914939:INFO:headless_shell.cc(660)] Written to file /Users/philurame/Downloads/a.png.\n"
     ]
    }
   ],
   "source": [
    "from html2image import Html2Image\n",
    "from PIL import Image\n",
    "import math\n",
    "hti = Html2Image()\n",
    "symbols='酌み交わす'+'人'\n",
    "N=len(symbols)-1\n",
    "length=N*25+(N-1)*2.5+26\n",
    "hti.screenshot(html_str=f'<!DOCTYPE html><html lang=\"en\" id=\"main\"><link rel=\"stylesheet\" href=\"https://assets.wanikani.com/assets/default-v2/application-9f90d8bba6b4667120fd2ce84299efdce8f9039df4a6de803a264ca13d5495dd.css\" media=\"screen\" /><body><span class=\"vocabulary-icon\" lang=\"ja\">{symbols}</span></html>', save_as='a.png',size=(math.ceil(length), 48))\n",
    "img = Image.open(\"a.png\")\n",
    "w, h = img.size\n",
    "img.crop((4, 0, w-4, h)).save('a.png')"
   ]
  },
  {
   "cell_type": "code",
   "execution_count": 84,
   "metadata": {},
   "outputs": [
    {
     "name": "stderr",
     "output_type": "stream",
     "text": [
      "objc[19990]: Class WebSwapCGLLayer is implemented in both /System/Library/Frameworks/WebKit.framework/Versions/A/Frameworks/WebCore.framework/Versions/A/Frameworks/libANGLE-shared.dylib (0x7ffa4b58a318) and /Applications/Google Chrome.app/Contents/Frameworks/Google Chrome Framework.framework/Versions/103.0.5060.53/Libraries/libGLESv2.dylib (0x11a76cd18). One of the two will be used. Which one is undefined.\n",
      "[0630/234501.917466:ERROR:command_buffer_proxy_impl.cc(128)] ContextResult::kTransientFailure: Failed to send GpuControl.CreateCommandBuffer.\n",
      "[0630/234502.218385:INFO:headless_shell.cc(660)] Written to file /Users/philurame/Downloads/b.png.\n"
     ]
    }
   ],
   "source": [
    "from html2image import Html2Image\n",
    "from PIL import Image\n",
    "import math\n",
    "hti = Html2Image()\n",
    "symbols='酌'\n",
    "length=48\n",
    "type_='kanji'\n",
    "hti.screenshot(html_str=f'<!DOCTYPE html><html lang=\"en\" id=\"main\"><link rel=\"stylesheet\" href=\"https://assets.wanikani.com/assets/default-v2/application-9f90d8bba6b4667120fd2ce84299efdce8f9039df4a6de803a264ca13d5495dd.css\" media=\"screen\" /><body><span class=\"{type_}-icon\" lang=\"ja\">{symbols}</span></html>', save_as='b.png',size=(math.ceil(length), 48))\n",
    "img = Image.open(\"b.png\")\n",
    "w, h = img.size\n",
    "img.crop((4, 0, w-4, h)).save('b.png')"
   ]
  }
 ],
 "metadata": {
  "kernelspec": {
   "display_name": "Python 3.10.0 64-bit",
   "language": "python",
   "name": "python3"
  },
  "language_info": {
   "codemirror_mode": {
    "name": "ipython",
    "version": 3
   },
   "file_extension": ".py",
   "mimetype": "text/x-python",
   "name": "python",
   "nbconvert_exporter": "python",
   "pygments_lexer": "ipython3",
   "version": "3.10.0"
  },
  "orig_nbformat": 4,
  "vscode": {
   "interpreter": {
    "hash": "aee8b7b246df8f9039afb4144a1f6fd8d2ca17a180786b69acc140d282b71a49"
   }
  }
 },
 "nbformat": 4,
 "nbformat_minor": 2
}

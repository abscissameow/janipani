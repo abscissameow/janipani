{
 "cells": [
  {
   "cell_type": "code",
   "execution_count": 1,
   "metadata": {},
   "outputs": [
    {
     "ename": "SyntaxError",
     "evalue": "invalid syntax (3136820979.py, line 24)",
     "output_type": "error",
     "traceback": [
      "\u001b[0;36m  Input \u001b[0;32mIn [1]\u001b[0;36m\u001b[0m\n\u001b[0;31m    user_dict[message.chat.id]=\u001b[0m\n\u001b[0m                               ^\u001b[0m\n\u001b[0;31mSyntaxError\u001b[0m\u001b[0;31m:\u001b[0m invalid syntax\n"
     ]
    }
   ],
   "source": [
    "import telebot\n",
    "from telebot import types\n",
    "from wanikani import *\n",
    "\n",
    "bot=telebot.TeleBot('5402875904:AAFkX76VxCNv1oUicVRguyOGQ6n-CRZHU1M')\n",
    "\n",
    "class user:\n",
    "    def __init__(self,data):\n",
    "        self.data=data\n",
    "\n",
    "user_dict={}\n",
    "\n",
    "@bot.message_handler(commands=['start'])\n",
    "def start(message):\n",
    "    if message.chat.id not in user_dict:\n",
    "        msg=bot.reply_to(message, 'from which lvl wanna start?')\n",
    "        user_dict[message.chat.id]=wanikani(FIT(int(msg.txt)),int(msg.txt),int(msg.txt))\n",
    "        bot.register_next_step_handler(msg, new_user)\n",
    "        \n",
    "    msg = bot.reply_to(message,'OHAIO ONIICHAN LETS GO')\n",
    "    bot.register_next_step_handler(msg, next)\n",
    "\n",
    "def new_user(message):\n",
    "    user_dict[message.chat.id]=\n",
    "    if message.text=='register':\n",
    "        msg=bot.reply_to(message, 'THINK UP THE LOGIN BABY')\n",
    "        while msg.text in user_dict:\n",
    "            msg=bot.reply_to(msg, 'THIS LOGIN IS UNACCEPTABLE!')\n",
    "        user_dict[msg.text]\n",
    "    elif message.text=='sign in':\n",
    "        bot.reply_to(message, 'GIVE ME YOUR LOGIN BABY')\n",
    "    # chat_id = message.chat.id\n",
    "    # name = message.text\n",
    "    # user = User(name)\n",
    "    # user_dict[chat_id] = user\n",
    "    # msg = bot.reply_to(message, 'How old are you?')\n",
    "    # bot.register_next_step_handler(msg, process_age_step)\n",
    "\n",
    "\n",
    "\n",
    "\n",
    "logger = telebot.logger\n",
    "\n",
    "bot.infinity_polling()"
   ]
  },
  {
   "cell_type": "code",
   "execution_count": null,
   "metadata": {},
   "outputs": [],
   "source": []
  }
 ],
 "metadata": {
  "kernelspec": {
   "display_name": "Python 3.10.0 64-bit",
   "language": "python",
   "name": "python3"
  },
  "language_info": {
   "codemirror_mode": {
    "name": "ipython",
    "version": 3
   },
   "file_extension": ".py",
   "mimetype": "text/x-python",
   "name": "python",
   "nbconvert_exporter": "python",
   "pygments_lexer": "ipython3",
   "version": "3.10.0"
  },
  "orig_nbformat": 4,
  "vscode": {
   "interpreter": {
    "hash": "aee8b7b246df8f9039afb4144a1f6fd8d2ca17a180786b69acc140d282b71a49"
   }
  }
 },
 "nbformat": 4,
 "nbformat_minor": 2
}

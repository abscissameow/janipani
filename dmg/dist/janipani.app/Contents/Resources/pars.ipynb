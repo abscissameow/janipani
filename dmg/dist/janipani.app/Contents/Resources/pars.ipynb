{
 "cells": [
  {
   "cell_type": "code",
   "execution_count": 4,
   "metadata": {},
   "outputs": [
    {
     "data": {
      "text/plain": [
       "'はずす'"
      ]
     },
     "execution_count": 4,
     "metadata": {},
     "output_type": "execute_result"
    }
   ],
   "source": [
    "from converter import *\n",
    "romajiToJapanese('hazusu')"
   ]
  },
  {
   "cell_type": "code",
   "execution_count": 1,
   "metadata": {},
   "outputs": [],
   "source": [
    "import re\n",
    "from bs4 import BeautifulSoup\n",
    "import urllib\n",
    "from tqdm import tqdm\n",
    "import pickle\n",
    "\n",
    "# URL_LVL_DICT_RAD,URL_LVL_DICT_KAN,URL_LVL_DICT_VOC={},{},{}\n",
    "# for i in tqdm(range(1,61)):\n",
    "#     soup = BeautifulSoup(urllib.request.urlopen(f\"http://wanikani.com/level/{i}\") )\n",
    "#     for j in soup.find_all('a', {'href': re.compile(r'radicals/')}):\n",
    "#         URL_LVL_DICT_RAD[i]=URL_LVL_DICT_RAD.get(i,[])+['http://wanikani.com'+j['href']]\n",
    "#     for j in soup.find_all('a', {'href': re.compile(r'kanji/')}):\n",
    "#         URL_LVL_DICT_KAN[i]=URL_LVL_DICT_KAN.get(i,[])+['http://wanikani.com'+j['href']]\n",
    "#     for j in soup.find_all('a', {'href': re.compile(r'vocabulary/')}):\n",
    "#         URL_LVL_DICT_VOC[i]=URL_LVL_DICT_VOC.get(i,[])+['http://wanikani.com'+j['href']]\n",
    "\n",
    "with open('urls.pkl', 'rb') as inp:\n",
    "    URL_LVL_DICT_RAD,URL_LVL_DICT_KAN,URL_LVL_DICT_VOC=pickle.load(inp)"
   ]
  },
  {
   "cell_type": "code",
   "execution_count": 2,
   "metadata": {},
   "outputs": [],
   "source": [
    "bad_rads={1: [8, 9, 20], 3: [8, 18], 4: [3, 13, 28], 5: [9, 18, 22], 8: [1], 9: [3, 8, 14, 16, 17, 19], 10: [3], 11: [0, 1, 12], 12: [10], 13: [4], 14: [0], 15: [0, 5], 16: [4], 20: [0], 23: [3], 24: [3], 26: [2], 30: [0], 32: [3], 33: [0], 41: [0], 42: [2], 50: [1]}\n",
    "# for i in tqdm(URL_LVL_DICT_RAD.keys()):\n",
    "#     for j in range(len(URL_LVL_DICT_RAD[i])):\n",
    "#         try:\n",
    "#             soup = BeautifulSoup(urllib.request.urlopen(URL_LVL_DICT_RAD[i][j]))\n",
    "#             a=soup.find(\"span\", class_=\"radical-icon\").text\n",
    "#             if not a:\n",
    "#                 bad_rads[i]=bad_rads.get(i,[])+[j]\n",
    "#                 link_pic = soup.find('img',class_=\"radical-image\")['src']\n",
    "#                 urllib.request.urlretrieve(link_pic,soup.head.title.text.split('/')[2].strip().split('/')[-1].lower()+'.png')\n",
    "#         except:\n",
    "#             print(i,j)\n",
    "#             continue"
   ]
  },
  {
   "cell_type": "code",
   "execution_count": 2,
   "metadata": {},
   "outputs": [],
   "source": [
    "def mnemonics(url,rads=False):\n",
    "    if rads:\n",
    "        return BeautifulSoup(urllib.request.urlopen(url,timeout = 120)).find('section', class_=\"mnemonic-content mnemonic-content--new\").text.replace('\\n\\n Hints\\n',' ').replace('\\n',' ').strip()\n",
    "    loc = BeautifulSoup(urllib.request.urlopen(url,timeout = 120)).find_all('section', class_=\"mnemonic-content mnemonic-content--new\")\n",
    "    return [loc[0].text.replace('\\n\\n Hints\\n',' ').replace('\\n',' ').strip(),loc[1].text.replace('\\n\\n Hints\\n',' ').replace('\\n',' ').strip()]\n",
    "def meanings(url):\n",
    "    soup = BeautifulSoup(urllib.request.urlopen(url,timeout = 120) )\n",
    "    loc=list(map(lambda x: x.text.lower(),soup.find_all(\"p\", class_=\"text-gray-700\")))\n",
    "    newm=[]\n",
    "    for m in loc:\n",
    "        newm+=m.split(', ')\n",
    "    return newm\n",
    "def hyerogliph(url):#KAN AND VOC\n",
    "    soup = BeautifulSoup(urllib.request.urlopen(url,timeout = 120))\n",
    "    return soup.head.title.text.split('/')[2].strip().split('/')[-1]\n",
    "def readings(url): \n",
    "    soup = BeautifulSoup(urllib.request.urlopen(url,timeout = 120))\n",
    "    loc=soup.find(\"div\", class_=\"span4 reading--kunyomi\")\n",
    "    if loc:\n",
    "        return [loc.text.replace('Kun’yomi','').strip().split(', '),\n",
    "        soup.find(\"div\", class_=\"span4 reading--onyomi muted-content\").text.replace('On’yomi','').strip().split(', '),\n",
    "        'kun']\n",
    "    else:\n",
    "        return [soup.find(\"div\", class_=\"span4 reading--kunyomi muted-content\").text.replace('Kun’yomi','').strip().split(', '),\n",
    "        soup.find(\"div\", class_=\"span4 reading--onyomi\").text.replace('On’yomi','').strip().split(', '),\n",
    "        'on']\n",
    "def context_sents(url):\n",
    "    return list(filter(None, BeautifulSoup(urllib.request.urlopen(url,timeout = 120)).find('section', id=\"context\", class_=\"context-sentence\").text.replace('Context','').replace(' Sentences','').split('\\n')))"
   ]
  },
  {
   "cell_type": "code",
   "execution_count": 3,
   "metadata": {},
   "outputs": [],
   "source": [
    "with open('DATA.pkl', 'rb') as inp:\n",
    "    DATA=pickle.load(inp)"
   ]
  },
  {
   "cell_type": "code",
   "execution_count": 12,
   "metadata": {},
   "outputs": [],
   "source": [
    "DATA[3]['rad'][3].hyerogliph"
   ]
  },
  {
   "cell_type": "code",
   "execution_count": 34,
   "metadata": {},
   "outputs": [
    {
     "name": "stderr",
     "output_type": "stream",
     "text": [
      " 53%|█████▎    | 18/34 [04:55<04:32, 17.01s/it]"
     ]
    },
    {
     "name": "stdout",
     "output_type": "stream",
     "text": [
      "HTTPSConnectionPool(host='translate.google.com', port=443): Read timed out.\n"
     ]
    },
    {
     "name": "stderr",
     "output_type": "stream",
     "text": [
      " 97%|█████████▋| 33/34 [13:53<00:18, 18.68s/it]"
     ]
    },
    {
     "name": "stdout",
     "output_type": "stream",
     "text": [
      "HTTPSConnectionPool(host='translate.google.com', port=443): Max retries exceeded with url: / (Caused by SSLError(SSLEOFError(8, 'EOF occurred in violation of protocol (_ssl.c:997)')))\n"
     ]
    },
    {
     "name": "stderr",
     "output_type": "stream",
     "text": [
      "100%|██████████| 34/34 [15:28<00:00, 27.32s/it]\n"
     ]
    }
   ],
   "source": [
    "#endless_kan=done!\n",
    "# from wanikani import *\n",
    "# import time\n",
    "# def endless_kan(lvl,link,wait=10):\n",
    "#     try:\n",
    "#         DATA[lvl-1]['kan'].append(kan(link,hyerogliph(link),meanings(link),*readings(link),*mnemonics(link),lvl))\n",
    "#         return\n",
    "#     except Exception as e:\n",
    "#         print(str(e))\n",
    "#         time.sleep(wait)\n",
    "#         if wait<60:\n",
    "#             wait+=1\n",
    "#         endless_kan(lvl,link,wait)\n",
    "    \n",
    "# for lvl in range(61,61):\n",
    "#     for link in tqdm(URL_LVL_DICT_KAN[lvl]):\n",
    "#         endless_kan(lvl,link)\n",
    "#     with open('DATA.pkl', 'wb') as outp:\n",
    "#         pickle.dump(DATA, outp, pickle.HIGHEST_PROTOCOL)\n"
   ]
  },
  {
   "cell_type": "code",
   "execution_count": 7,
   "metadata": {},
   "outputs": [
    {
     "data": {
      "text/plain": [
       "[]"
      ]
     },
     "execution_count": 7,
     "metadata": {},
     "output_type": "execute_result"
    }
   ],
   "source": [
    "DATA[52]['voc']"
   ]
  },
  {
   "cell_type": "code",
   "execution_count": 8,
   "metadata": {},
   "outputs": [
    {
     "name": "stderr",
     "output_type": "stream",
     "text": [
      " 22%|██▏       | 2/9 [53:48<3:14:43, 1669.14s/it]"
     ]
    }
   ],
   "source": [
    "#endless_voc\n",
    "from wanikani import *\n",
    "def endless_voc(lvl,link,wait=1):\n",
    "    try:\n",
    "        if len(loc:=meanings(link))>1:\n",
    "            meanings_=loc[:-1]\n",
    "        else:\n",
    "            meanings_=loc\n",
    "        reading=list(map(lambda x:x.text.strip(), BeautifulSoup(urllib.request.urlopen(link,timeout = 120)).find_all('p', class_=\"pronunciation-variant\")))\n",
    "        DATA[lvl-1]['voc'].append(voc(link,hyerogliph(link),meanings_,reading,*mnemonics(link),context_sents(link),lvl))\n",
    "        return\n",
    "    except Exception as e:\n",
    "        # print(str(e))\n",
    "        time.sleep(wait)\n",
    "        if wait<10:\n",
    "            wait+=0.5\n",
    "        endless_voc(lvl,link,wait)\n",
    "\n",
    "for lvl in tqdm(range(52,61)):\n",
    "    for i in range(len(DATA[lvl-1]['voc']),len(URL_LVL_DICT_VOC[lvl])):\n",
    "        link=URL_LVL_DICT_VOC[lvl][i]\n",
    "        endless_voc(lvl,link)\n",
    "        "
   ]
  },
  {
   "cell_type": "code",
   "execution_count": 225,
   "metadata": {},
   "outputs": [
    {
     "name": "stderr",
     "output_type": "stream",
     "text": [
      "  0%|          | 0/30 [14:46<?, ?it/s]\n"
     ]
    },
    {
     "ename": "SSLError",
     "evalue": "HTTPSConnectionPool(host='translate.google.com', port=443): Max retries exceeded with url: / (Caused by SSLError(SSLEOFError(8, 'EOF occurred in violation of protocol (_ssl.c:997)')))",
     "output_type": "error",
     "traceback": [
      "\u001b[0;31m---------------------------------------------------------------------------\u001b[0m",
      "\u001b[0;31mSSLEOFError\u001b[0m                               Traceback (most recent call last)",
      "File \u001b[0;32m/Library/Frameworks/Python.framework/Versions/3.10/lib/python3.10/site-packages/urllib3/connectionpool.py:699\u001b[0m, in \u001b[0;36mHTTPConnectionPool.urlopen\u001b[0;34m(self, method, url, body, headers, retries, redirect, assert_same_host, timeout, pool_timeout, release_conn, chunked, body_pos, **response_kw)\u001b[0m\n\u001b[1;32m    698\u001b[0m \u001b[39m# Make the request on the httplib connection object.\u001b[39;00m\n\u001b[0;32m--> 699\u001b[0m httplib_response \u001b[39m=\u001b[39m \u001b[39mself\u001b[39;49m\u001b[39m.\u001b[39;49m_make_request(\n\u001b[1;32m    700\u001b[0m     conn,\n\u001b[1;32m    701\u001b[0m     method,\n\u001b[1;32m    702\u001b[0m     url,\n\u001b[1;32m    703\u001b[0m     timeout\u001b[39m=\u001b[39;49mtimeout_obj,\n\u001b[1;32m    704\u001b[0m     body\u001b[39m=\u001b[39;49mbody,\n\u001b[1;32m    705\u001b[0m     headers\u001b[39m=\u001b[39;49mheaders,\n\u001b[1;32m    706\u001b[0m     chunked\u001b[39m=\u001b[39;49mchunked,\n\u001b[1;32m    707\u001b[0m )\n\u001b[1;32m    709\u001b[0m \u001b[39m# If we're going to release the connection in ``finally:``, then\u001b[39;00m\n\u001b[1;32m    710\u001b[0m \u001b[39m# the response doesn't need to know about the connection. Otherwise\u001b[39;00m\n\u001b[1;32m    711\u001b[0m \u001b[39m# it will also try to release it and we'll have a double-release\u001b[39;00m\n\u001b[1;32m    712\u001b[0m \u001b[39m# mess.\u001b[39;00m\n",
      "File \u001b[0;32m/Library/Frameworks/Python.framework/Versions/3.10/lib/python3.10/site-packages/urllib3/connectionpool.py:382\u001b[0m, in \u001b[0;36mHTTPConnectionPool._make_request\u001b[0;34m(self, conn, method, url, timeout, chunked, **httplib_request_kw)\u001b[0m\n\u001b[1;32m    381\u001b[0m \u001b[39mtry\u001b[39;00m:\n\u001b[0;32m--> 382\u001b[0m     \u001b[39mself\u001b[39;49m\u001b[39m.\u001b[39;49m_validate_conn(conn)\n\u001b[1;32m    383\u001b[0m \u001b[39mexcept\u001b[39;00m (SocketTimeout, BaseSSLError) \u001b[39mas\u001b[39;00m e:\n\u001b[1;32m    384\u001b[0m     \u001b[39m# Py2 raises this as a BaseSSLError, Py3 raises it as socket timeout.\u001b[39;00m\n",
      "File \u001b[0;32m/Library/Frameworks/Python.framework/Versions/3.10/lib/python3.10/site-packages/urllib3/connectionpool.py:1010\u001b[0m, in \u001b[0;36mHTTPSConnectionPool._validate_conn\u001b[0;34m(self, conn)\u001b[0m\n\u001b[1;32m   1009\u001b[0m \u001b[39mif\u001b[39;00m \u001b[39mnot\u001b[39;00m \u001b[39mgetattr\u001b[39m(conn, \u001b[39m\"\u001b[39m\u001b[39msock\u001b[39m\u001b[39m\"\u001b[39m, \u001b[39mNone\u001b[39;00m):  \u001b[39m# AppEngine might not have  `.sock`\u001b[39;00m\n\u001b[0;32m-> 1010\u001b[0m     conn\u001b[39m.\u001b[39;49mconnect()\n\u001b[1;32m   1012\u001b[0m \u001b[39mif\u001b[39;00m \u001b[39mnot\u001b[39;00m conn\u001b[39m.\u001b[39mis_verified:\n",
      "File \u001b[0;32m/Library/Frameworks/Python.framework/Versions/3.10/lib/python3.10/site-packages/urllib3/connection.py:411\u001b[0m, in \u001b[0;36mHTTPSConnection.connect\u001b[0;34m(self)\u001b[0m\n\u001b[1;32m    409\u001b[0m     context\u001b[39m.\u001b[39mload_default_certs()\n\u001b[0;32m--> 411\u001b[0m \u001b[39mself\u001b[39m\u001b[39m.\u001b[39msock \u001b[39m=\u001b[39m ssl_wrap_socket(\n\u001b[1;32m    412\u001b[0m     sock\u001b[39m=\u001b[39;49mconn,\n\u001b[1;32m    413\u001b[0m     keyfile\u001b[39m=\u001b[39;49m\u001b[39mself\u001b[39;49m\u001b[39m.\u001b[39;49mkey_file,\n\u001b[1;32m    414\u001b[0m     certfile\u001b[39m=\u001b[39;49m\u001b[39mself\u001b[39;49m\u001b[39m.\u001b[39;49mcert_file,\n\u001b[1;32m    415\u001b[0m     key_password\u001b[39m=\u001b[39;49m\u001b[39mself\u001b[39;49m\u001b[39m.\u001b[39;49mkey_password,\n\u001b[1;32m    416\u001b[0m     ca_certs\u001b[39m=\u001b[39;49m\u001b[39mself\u001b[39;49m\u001b[39m.\u001b[39;49mca_certs,\n\u001b[1;32m    417\u001b[0m     ca_cert_dir\u001b[39m=\u001b[39;49m\u001b[39mself\u001b[39;49m\u001b[39m.\u001b[39;49mca_cert_dir,\n\u001b[1;32m    418\u001b[0m     ca_cert_data\u001b[39m=\u001b[39;49m\u001b[39mself\u001b[39;49m\u001b[39m.\u001b[39;49mca_cert_data,\n\u001b[1;32m    419\u001b[0m     server_hostname\u001b[39m=\u001b[39;49mserver_hostname,\n\u001b[1;32m    420\u001b[0m     ssl_context\u001b[39m=\u001b[39;49mcontext,\n\u001b[1;32m    421\u001b[0m     tls_in_tls\u001b[39m=\u001b[39;49mtls_in_tls,\n\u001b[1;32m    422\u001b[0m )\n\u001b[1;32m    424\u001b[0m \u001b[39m# If we're using all defaults and the connection\u001b[39;00m\n\u001b[1;32m    425\u001b[0m \u001b[39m# is TLSv1 or TLSv1.1 we throw a DeprecationWarning\u001b[39;00m\n\u001b[1;32m    426\u001b[0m \u001b[39m# for the host.\u001b[39;00m\n",
      "File \u001b[0;32m/Library/Frameworks/Python.framework/Versions/3.10/lib/python3.10/site-packages/urllib3/util/ssl_.py:449\u001b[0m, in \u001b[0;36mssl_wrap_socket\u001b[0;34m(sock, keyfile, certfile, cert_reqs, ca_certs, server_hostname, ssl_version, ciphers, ssl_context, ca_cert_dir, key_password, ca_cert_data, tls_in_tls)\u001b[0m\n\u001b[1;32m    448\u001b[0m \u001b[39mif\u001b[39;00m send_sni:\n\u001b[0;32m--> 449\u001b[0m     ssl_sock \u001b[39m=\u001b[39m _ssl_wrap_socket_impl(\n\u001b[1;32m    450\u001b[0m         sock, context, tls_in_tls, server_hostname\u001b[39m=\u001b[39;49mserver_hostname\n\u001b[1;32m    451\u001b[0m     )\n\u001b[1;32m    452\u001b[0m \u001b[39melse\u001b[39;00m:\n",
      "File \u001b[0;32m/Library/Frameworks/Python.framework/Versions/3.10/lib/python3.10/site-packages/urllib3/util/ssl_.py:493\u001b[0m, in \u001b[0;36m_ssl_wrap_socket_impl\u001b[0;34m(sock, ssl_context, tls_in_tls, server_hostname)\u001b[0m\n\u001b[1;32m    492\u001b[0m \u001b[39mif\u001b[39;00m server_hostname:\n\u001b[0;32m--> 493\u001b[0m     \u001b[39mreturn\u001b[39;00m ssl_context\u001b[39m.\u001b[39;49mwrap_socket(sock, server_hostname\u001b[39m=\u001b[39;49mserver_hostname)\n\u001b[1;32m    494\u001b[0m \u001b[39melse\u001b[39;00m:\n",
      "File \u001b[0;32m/Library/Frameworks/Python.framework/Versions/3.10/lib/python3.10/ssl.py:512\u001b[0m, in \u001b[0;36mSSLContext.wrap_socket\u001b[0;34m(self, sock, server_side, do_handshake_on_connect, suppress_ragged_eofs, server_hostname, session)\u001b[0m\n\u001b[1;32m    506\u001b[0m \u001b[39mdef\u001b[39;00m \u001b[39mwrap_socket\u001b[39m(\u001b[39mself\u001b[39m, sock, server_side\u001b[39m=\u001b[39m\u001b[39mFalse\u001b[39;00m,\n\u001b[1;32m    507\u001b[0m                 do_handshake_on_connect\u001b[39m=\u001b[39m\u001b[39mTrue\u001b[39;00m,\n\u001b[1;32m    508\u001b[0m                 suppress_ragged_eofs\u001b[39m=\u001b[39m\u001b[39mTrue\u001b[39;00m,\n\u001b[1;32m    509\u001b[0m                 server_hostname\u001b[39m=\u001b[39m\u001b[39mNone\u001b[39;00m, session\u001b[39m=\u001b[39m\u001b[39mNone\u001b[39;00m):\n\u001b[1;32m    510\u001b[0m     \u001b[39m# SSLSocket class handles server_hostname encoding before it calls\u001b[39;00m\n\u001b[1;32m    511\u001b[0m     \u001b[39m# ctx._wrap_socket()\u001b[39;00m\n\u001b[0;32m--> 512\u001b[0m     \u001b[39mreturn\u001b[39;00m \u001b[39mself\u001b[39;49m\u001b[39m.\u001b[39;49msslsocket_class\u001b[39m.\u001b[39;49m_create(\n\u001b[1;32m    513\u001b[0m         sock\u001b[39m=\u001b[39;49msock,\n\u001b[1;32m    514\u001b[0m         server_side\u001b[39m=\u001b[39;49mserver_side,\n\u001b[1;32m    515\u001b[0m         do_handshake_on_connect\u001b[39m=\u001b[39;49mdo_handshake_on_connect,\n\u001b[1;32m    516\u001b[0m         suppress_ragged_eofs\u001b[39m=\u001b[39;49msuppress_ragged_eofs,\n\u001b[1;32m    517\u001b[0m         server_hostname\u001b[39m=\u001b[39;49mserver_hostname,\n\u001b[1;32m    518\u001b[0m         context\u001b[39m=\u001b[39;49m\u001b[39mself\u001b[39;49m,\n\u001b[1;32m    519\u001b[0m         session\u001b[39m=\u001b[39;49msession\n\u001b[1;32m    520\u001b[0m     )\n",
      "File \u001b[0;32m/Library/Frameworks/Python.framework/Versions/3.10/lib/python3.10/ssl.py:1070\u001b[0m, in \u001b[0;36mSSLSocket._create\u001b[0;34m(cls, sock, server_side, do_handshake_on_connect, suppress_ragged_eofs, server_hostname, context, session)\u001b[0m\n\u001b[1;32m   1069\u001b[0m             \u001b[39mraise\u001b[39;00m \u001b[39mValueError\u001b[39;00m(\u001b[39m\"\u001b[39m\u001b[39mdo_handshake_on_connect should not be specified for non-blocking sockets\u001b[39m\u001b[39m\"\u001b[39m)\n\u001b[0;32m-> 1070\u001b[0m         \u001b[39mself\u001b[39;49m\u001b[39m.\u001b[39;49mdo_handshake()\n\u001b[1;32m   1071\u001b[0m \u001b[39mexcept\u001b[39;00m (\u001b[39mOSError\u001b[39;00m, \u001b[39mValueError\u001b[39;00m):\n",
      "File \u001b[0;32m/Library/Frameworks/Python.framework/Versions/3.10/lib/python3.10/ssl.py:1341\u001b[0m, in \u001b[0;36mSSLSocket.do_handshake\u001b[0;34m(self, block)\u001b[0m\n\u001b[1;32m   1340\u001b[0m         \u001b[39mself\u001b[39m\u001b[39m.\u001b[39msettimeout(\u001b[39mNone\u001b[39;00m)\n\u001b[0;32m-> 1341\u001b[0m     \u001b[39mself\u001b[39;49m\u001b[39m.\u001b[39;49m_sslobj\u001b[39m.\u001b[39;49mdo_handshake()\n\u001b[1;32m   1342\u001b[0m \u001b[39mfinally\u001b[39;00m:\n",
      "\u001b[0;31mSSLEOFError\u001b[0m: EOF occurred in violation of protocol (_ssl.c:997)",
      "\nDuring handling of the above exception, another exception occurred:\n",
      "\u001b[0;31mMaxRetryError\u001b[0m                             Traceback (most recent call last)",
      "File \u001b[0;32m/Library/Frameworks/Python.framework/Versions/3.10/lib/python3.10/site-packages/requests/adapters.py:439\u001b[0m, in \u001b[0;36mHTTPAdapter.send\u001b[0;34m(self, request, stream, timeout, verify, cert, proxies)\u001b[0m\n\u001b[1;32m    438\u001b[0m \u001b[39mif\u001b[39;00m \u001b[39mnot\u001b[39;00m chunked:\n\u001b[0;32m--> 439\u001b[0m     resp \u001b[39m=\u001b[39m conn\u001b[39m.\u001b[39;49murlopen(\n\u001b[1;32m    440\u001b[0m         method\u001b[39m=\u001b[39;49mrequest\u001b[39m.\u001b[39;49mmethod,\n\u001b[1;32m    441\u001b[0m         url\u001b[39m=\u001b[39;49murl,\n\u001b[1;32m    442\u001b[0m         body\u001b[39m=\u001b[39;49mrequest\u001b[39m.\u001b[39;49mbody,\n\u001b[1;32m    443\u001b[0m         headers\u001b[39m=\u001b[39;49mrequest\u001b[39m.\u001b[39;49mheaders,\n\u001b[1;32m    444\u001b[0m         redirect\u001b[39m=\u001b[39;49m\u001b[39mFalse\u001b[39;49;00m,\n\u001b[1;32m    445\u001b[0m         assert_same_host\u001b[39m=\u001b[39;49m\u001b[39mFalse\u001b[39;49;00m,\n\u001b[1;32m    446\u001b[0m         preload_content\u001b[39m=\u001b[39;49m\u001b[39mFalse\u001b[39;49;00m,\n\u001b[1;32m    447\u001b[0m         decode_content\u001b[39m=\u001b[39;49m\u001b[39mFalse\u001b[39;49;00m,\n\u001b[1;32m    448\u001b[0m         retries\u001b[39m=\u001b[39;49m\u001b[39mself\u001b[39;49m\u001b[39m.\u001b[39;49mmax_retries,\n\u001b[1;32m    449\u001b[0m         timeout\u001b[39m=\u001b[39;49mtimeout\n\u001b[1;32m    450\u001b[0m     )\n\u001b[1;32m    452\u001b[0m \u001b[39m# Send the request.\u001b[39;00m\n\u001b[1;32m    453\u001b[0m \u001b[39melse\u001b[39;00m:\n",
      "File \u001b[0;32m/Library/Frameworks/Python.framework/Versions/3.10/lib/python3.10/site-packages/urllib3/connectionpool.py:755\u001b[0m, in \u001b[0;36mHTTPConnectionPool.urlopen\u001b[0;34m(self, method, url, body, headers, retries, redirect, assert_same_host, timeout, pool_timeout, release_conn, chunked, body_pos, **response_kw)\u001b[0m\n\u001b[1;32m    753\u001b[0m     e \u001b[39m=\u001b[39m ProtocolError(\u001b[39m\"\u001b[39m\u001b[39mConnection aborted.\u001b[39m\u001b[39m\"\u001b[39m, e)\n\u001b[0;32m--> 755\u001b[0m retries \u001b[39m=\u001b[39m retries\u001b[39m.\u001b[39;49mincrement(\n\u001b[1;32m    756\u001b[0m     method, url, error\u001b[39m=\u001b[39;49me, _pool\u001b[39m=\u001b[39;49m\u001b[39mself\u001b[39;49m, _stacktrace\u001b[39m=\u001b[39;49msys\u001b[39m.\u001b[39;49mexc_info()[\u001b[39m2\u001b[39;49m]\n\u001b[1;32m    757\u001b[0m )\n\u001b[1;32m    758\u001b[0m retries\u001b[39m.\u001b[39msleep()\n",
      "File \u001b[0;32m/Library/Frameworks/Python.framework/Versions/3.10/lib/python3.10/site-packages/urllib3/util/retry.py:574\u001b[0m, in \u001b[0;36mRetry.increment\u001b[0;34m(self, method, url, response, error, _pool, _stacktrace)\u001b[0m\n\u001b[1;32m    573\u001b[0m \u001b[39mif\u001b[39;00m new_retry\u001b[39m.\u001b[39mis_exhausted():\n\u001b[0;32m--> 574\u001b[0m     \u001b[39mraise\u001b[39;00m MaxRetryError(_pool, url, error \u001b[39mor\u001b[39;00m ResponseError(cause))\n\u001b[1;32m    576\u001b[0m log\u001b[39m.\u001b[39mdebug(\u001b[39m\"\u001b[39m\u001b[39mIncremented Retry for (url=\u001b[39m\u001b[39m'\u001b[39m\u001b[39m%s\u001b[39;00m\u001b[39m'\u001b[39m\u001b[39m): \u001b[39m\u001b[39m%r\u001b[39;00m\u001b[39m\"\u001b[39m, url, new_retry)\n",
      "\u001b[0;31mMaxRetryError\u001b[0m: HTTPSConnectionPool(host='translate.google.com', port=443): Max retries exceeded with url: / (Caused by SSLError(SSLEOFError(8, 'EOF occurred in violation of protocol (_ssl.c:997)')))",
      "\nDuring handling of the above exception, another exception occurred:\n",
      "\u001b[0;31mSSLError\u001b[0m                                  Traceback (most recent call last)",
      "\u001b[1;32m/Users/philurame/kivymd_folder/app/pars.ipynb Cell 13'\u001b[0m in \u001b[0;36m<cell line: 3>\u001b[0;34m()\u001b[0m\n\u001b[1;32m      <a href='vscode-notebook-cell:/Users/philurame/kivymd_folder/app/pars.ipynb#ch0000004?line=2'>3</a>\u001b[0m \u001b[39mfor\u001b[39;00m lvl \u001b[39min\u001b[39;00m tqdm(\u001b[39mrange\u001b[39m(\u001b[39m31\u001b[39m,\u001b[39m61\u001b[39m)):\n\u001b[1;32m      <a href='vscode-notebook-cell:/Users/philurame/kivymd_folder/app/pars.ipynb#ch0000004?line=3'>4</a>\u001b[0m     \u001b[39m# for j in range(len(URL_LVL_DICT_RAD[lvl])):\u001b[39;00m\n\u001b[1;32m      <a href='vscode-notebook-cell:/Users/philurame/kivymd_folder/app/pars.ipynb#ch0000004?line=4'>5</a>\u001b[0m     \u001b[39m#     link=URL_LVL_DICT_RAD[lvl][j]\u001b[39;00m\n\u001b[0;32m   (...)\u001b[0m\n\u001b[1;32m     <a href='vscode-notebook-cell:/Users/philurame/kivymd_folder/app/pars.ipynb#ch0000004?line=11'>12</a>\u001b[0m     \u001b[39m#         hye=BeautifulSoup(urllib.request.urlopen(link,timeout = 120)).find(\"span\", class_=\"radical-icon\").text.lower()\u001b[39;00m\n\u001b[1;32m     <a href='vscode-notebook-cell:/Users/philurame/kivymd_folder/app/pars.ipynb#ch0000004?line=12'>13</a>\u001b[0m     \u001b[39m#         DATA[lvl-1]['rad'].append(rad(link,hye,None,meaning,mnem,lvl))\u001b[39;00m\n\u001b[1;32m     <a href='vscode-notebook-cell:/Users/philurame/kivymd_folder/app/pars.ipynb#ch0000004?line=14'>15</a>\u001b[0m     \u001b[39mfor\u001b[39;00m link \u001b[39min\u001b[39;00m URL_LVL_DICT_KAN[lvl]:\n\u001b[0;32m---> <a href='vscode-notebook-cell:/Users/philurame/kivymd_folder/app/pars.ipynb#ch0000004?line=15'>16</a>\u001b[0m         DATA[lvl\u001b[39m-\u001b[39m\u001b[39m1\u001b[39m][\u001b[39m'\u001b[39m\u001b[39mkan\u001b[39m\u001b[39m'\u001b[39m]\u001b[39m.\u001b[39mappend(kan(link,hyerogliph(link),meanings(link),\u001b[39m*\u001b[39;49mreadings(link),\u001b[39m*\u001b[39;49mmnemonics(link),lvl))\n",
      "File \u001b[0;32m~/kivymd_folder/app/wanikani.py:49\u001b[0m, in \u001b[0;36mkan.__init__\u001b[0;34m(self, link, hyerogliph, meaning, kun_reading, on_reading, main_reading, mnemonics_meaning, mnemonics_reading, lvl, stage, previous_review)\u001b[0m\n\u001b[1;32m     47\u001b[0m \u001b[39mself\u001b[39m\u001b[39m.\u001b[39mprevious_review\u001b[39m=\u001b[39mprevious_review\n\u001b[1;32m     48\u001b[0m \u001b[39mself\u001b[39m\u001b[39m.\u001b[39mmnemonics_meaning_ru\u001b[39m=\u001b[39mts\u001b[39m.\u001b[39mgoogle(\u001b[39mself\u001b[39m\u001b[39m.\u001b[39mmnemonics_meaning, from_language\u001b[39m=\u001b[39m\u001b[39m'\u001b[39m\u001b[39men\u001b[39m\u001b[39m'\u001b[39m, to_language\u001b[39m=\u001b[39m\u001b[39m'\u001b[39m\u001b[39mru\u001b[39m\u001b[39m'\u001b[39m,timeout\u001b[39m=\u001b[39m\u001b[39m60\u001b[39m)\n\u001b[0;32m---> 49\u001b[0m \u001b[39mself\u001b[39m\u001b[39m.\u001b[39mmnemonics_reading_ru\u001b[39m=\u001b[39mts\u001b[39m.\u001b[39;49mgoogle(\u001b[39mself\u001b[39;49m\u001b[39m.\u001b[39;49mmnemonics_reading, from_language\u001b[39m=\u001b[39;49m\u001b[39m'\u001b[39;49m\u001b[39men\u001b[39;49m\u001b[39m'\u001b[39;49m, to_language\u001b[39m=\u001b[39;49m\u001b[39m'\u001b[39;49m\u001b[39mru\u001b[39;49m\u001b[39m'\u001b[39;49m,timeout\u001b[39m=\u001b[39;49m\u001b[39m60\u001b[39;49m)\n\u001b[1;32m     50\u001b[0m \u001b[39mself\u001b[39m\u001b[39m.\u001b[39mind_meaning\u001b[39m=\u001b[39m\u001b[39m0\u001b[39m\n\u001b[1;32m     51\u001b[0m \u001b[39mself\u001b[39m\u001b[39m.\u001b[39mind_reading\u001b[39m=\u001b[39m\u001b[39m0\u001b[39m\n",
      "File \u001b[0;32m/Library/Frameworks/Python.framework/Versions/3.10/lib/python3.10/site-packages/translators/apis.py:401\u001b[0m, in \u001b[0;36mGoogleV2.google_api\u001b[0;34m(self, query_text, from_language, to_language, **kwargs)\u001b[0m\n\u001b[1;32m    398\u001b[0m     \u001b[39mreturn\u001b[39;00m \u001b[39m'\u001b[39m\u001b[39m'\u001b[39m\n\u001b[1;32m    400\u001b[0m \u001b[39mwith\u001b[39;00m requests\u001b[39m.\u001b[39mSession() \u001b[39mas\u001b[39;00m ss:\n\u001b[0;32m--> 401\u001b[0m     r \u001b[39m=\u001b[39m ss\u001b[39m.\u001b[39;49mget(\u001b[39mself\u001b[39;49m\u001b[39m.\u001b[39;49mhost_url, headers\u001b[39m=\u001b[39;49m\u001b[39mself\u001b[39;49m\u001b[39m.\u001b[39;49mhost_headers, timeout\u001b[39m=\u001b[39;49mtimeout, proxies\u001b[39m=\u001b[39;49mproxies)\n\u001b[1;32m    402\u001b[0m     \u001b[39mif\u001b[39;00m \u001b[39m'\u001b[39m\u001b[39mconsent.google.com\u001b[39m\u001b[39m'\u001b[39m \u001b[39m==\u001b[39m urllib\u001b[39m.\u001b[39mparse\u001b[39m.\u001b[39murlparse(r\u001b[39m.\u001b[39murl)\u001b[39m.\u001b[39mhostname:\n\u001b[1;32m    403\u001b[0m         \u001b[39mself\u001b[39m\u001b[39m.\u001b[39mhost_headers\u001b[39m.\u001b[39mupdate({\u001b[39m'\u001b[39m\u001b[39mcookie\u001b[39m\u001b[39m'\u001b[39m: \u001b[39mself\u001b[39m\u001b[39m.\u001b[39mget_consent_cookie(r\u001b[39m.\u001b[39mtext)})\n",
      "File \u001b[0;32m/Library/Frameworks/Python.framework/Versions/3.10/lib/python3.10/site-packages/requests/sessions.py:555\u001b[0m, in \u001b[0;36mSession.get\u001b[0;34m(self, url, **kwargs)\u001b[0m\n\u001b[1;32m    547\u001b[0m \u001b[39mr\u001b[39m\u001b[39m\"\"\"Sends a GET request. Returns :class:`Response` object.\u001b[39;00m\n\u001b[1;32m    548\u001b[0m \n\u001b[1;32m    549\u001b[0m \u001b[39m:param url: URL for the new :class:`Request` object.\u001b[39;00m\n\u001b[1;32m    550\u001b[0m \u001b[39m:param \\*\\*kwargs: Optional arguments that ``request`` takes.\u001b[39;00m\n\u001b[1;32m    551\u001b[0m \u001b[39m:rtype: requests.Response\u001b[39;00m\n\u001b[1;32m    552\u001b[0m \u001b[39m\"\"\"\u001b[39;00m\n\u001b[1;32m    554\u001b[0m kwargs\u001b[39m.\u001b[39msetdefault(\u001b[39m'\u001b[39m\u001b[39mallow_redirects\u001b[39m\u001b[39m'\u001b[39m, \u001b[39mTrue\u001b[39;00m)\n\u001b[0;32m--> 555\u001b[0m \u001b[39mreturn\u001b[39;00m \u001b[39mself\u001b[39;49m\u001b[39m.\u001b[39;49mrequest(\u001b[39m'\u001b[39;49m\u001b[39mGET\u001b[39;49m\u001b[39m'\u001b[39;49m, url, \u001b[39m*\u001b[39;49m\u001b[39m*\u001b[39;49mkwargs)\n",
      "File \u001b[0;32m/Library/Frameworks/Python.framework/Versions/3.10/lib/python3.10/site-packages/requests/sessions.py:542\u001b[0m, in \u001b[0;36mSession.request\u001b[0;34m(self, method, url, params, data, headers, cookies, files, auth, timeout, allow_redirects, proxies, hooks, stream, verify, cert, json)\u001b[0m\n\u001b[1;32m    537\u001b[0m send_kwargs \u001b[39m=\u001b[39m {\n\u001b[1;32m    538\u001b[0m     \u001b[39m'\u001b[39m\u001b[39mtimeout\u001b[39m\u001b[39m'\u001b[39m: timeout,\n\u001b[1;32m    539\u001b[0m     \u001b[39m'\u001b[39m\u001b[39mallow_redirects\u001b[39m\u001b[39m'\u001b[39m: allow_redirects,\n\u001b[1;32m    540\u001b[0m }\n\u001b[1;32m    541\u001b[0m send_kwargs\u001b[39m.\u001b[39mupdate(settings)\n\u001b[0;32m--> 542\u001b[0m resp \u001b[39m=\u001b[39m \u001b[39mself\u001b[39;49m\u001b[39m.\u001b[39;49msend(prep, \u001b[39m*\u001b[39;49m\u001b[39m*\u001b[39;49msend_kwargs)\n\u001b[1;32m    544\u001b[0m \u001b[39mreturn\u001b[39;00m resp\n",
      "File \u001b[0;32m/Library/Frameworks/Python.framework/Versions/3.10/lib/python3.10/site-packages/requests/sessions.py:655\u001b[0m, in \u001b[0;36mSession.send\u001b[0;34m(self, request, **kwargs)\u001b[0m\n\u001b[1;32m    652\u001b[0m start \u001b[39m=\u001b[39m preferred_clock()\n\u001b[1;32m    654\u001b[0m \u001b[39m# Send the request\u001b[39;00m\n\u001b[0;32m--> 655\u001b[0m r \u001b[39m=\u001b[39m adapter\u001b[39m.\u001b[39;49msend(request, \u001b[39m*\u001b[39;49m\u001b[39m*\u001b[39;49mkwargs)\n\u001b[1;32m    657\u001b[0m \u001b[39m# Total elapsed time of the request (approximately)\u001b[39;00m\n\u001b[1;32m    658\u001b[0m elapsed \u001b[39m=\u001b[39m preferred_clock() \u001b[39m-\u001b[39m start\n",
      "File \u001b[0;32m/Library/Frameworks/Python.framework/Versions/3.10/lib/python3.10/site-packages/requests/adapters.py:514\u001b[0m, in \u001b[0;36mHTTPAdapter.send\u001b[0;34m(self, request, stream, timeout, verify, cert, proxies)\u001b[0m\n\u001b[1;32m    510\u001b[0m         \u001b[39mraise\u001b[39;00m ProxyError(e, request\u001b[39m=\u001b[39mrequest)\n\u001b[1;32m    512\u001b[0m     \u001b[39mif\u001b[39;00m \u001b[39misinstance\u001b[39m(e\u001b[39m.\u001b[39mreason, _SSLError):\n\u001b[1;32m    513\u001b[0m         \u001b[39m# This branch is for urllib3 v1.22 and later.\u001b[39;00m\n\u001b[0;32m--> 514\u001b[0m         \u001b[39mraise\u001b[39;00m SSLError(e, request\u001b[39m=\u001b[39mrequest)\n\u001b[1;32m    516\u001b[0m     \u001b[39mraise\u001b[39;00m \u001b[39mConnectionError\u001b[39;00m(e, request\u001b[39m=\u001b[39mrequest)\n\u001b[1;32m    518\u001b[0m \u001b[39mexcept\u001b[39;00m ClosedPoolError \u001b[39mas\u001b[39;00m e:\n",
      "\u001b[0;31mSSLError\u001b[0m: HTTPSConnectionPool(host='translate.google.com', port=443): Max retries exceeded with url: / (Caused by SSLError(SSLEOFError(8, 'EOF occurred in violation of protocol (_ssl.c:997)')))"
     ]
    }
   ],
   "source": [
    "# from wanikani import *\n",
    "\n",
    "# for lvl in tqdm(range(32?,61)):\n",
    "    # for j in range(len(URL_LVL_DICT_RAD[lvl])):\n",
    "    #     link=URL_LVL_DICT_RAD[lvl][j]\n",
    "    #     meaning = BeautifulSoup(urllib.request.urlopen(link,timeout = 120)).head.title.text.split('/')[2].strip().split('/')[-1].lower()\n",
    "    #     mnem=mnemonics(link,True)\n",
    "    #     if (lvl in bad_rads) and (j in bad_rads[lvl]):\n",
    "    #         path='rads/'+meaning+'.png'\n",
    "    #         DATA[lvl-1]['rad'].append(rad(link,None,path,meaning,mnem,lvl))\n",
    "    #     else:\n",
    "    #         hye=BeautifulSoup(urllib.request.urlopen(link,timeout = 120)).find(\"span\", class_=\"radical-icon\").text.lower()\n",
    "    #         DATA[lvl-1]['rad'].append(rad(link,hye,None,meaning,mnem,lvl))\n",
    "\n",
    "    # for link in URL_LVL_DICT_KAN[lvl]:\n",
    "    #     DATA[lvl-1]['kan'].append(kan(link,hyerogliph(link),meanings(link),*readings(link),*mnemonics(link),lvl))\n",
    "    \n",
    "    # for link in URL_LVL_DICT_VOC[lvl]:\n",
    "    #     reading=list(map(lambda x:x.text.strip(), BeautifulSoup(urllib.request.urlopen(link,timeout = 120)).find_all('p', class_=\"pronunciation-variant\")))\n",
    "    #     DATA[lvl-1]['voc'].append(voc(link,hyerogliph(link),meanings(link)[:-1],reading,*mnemonics(link),context_sents(link),lvl))"
   ]
  },
  {
   "cell_type": "code",
   "execution_count": 40,
   "metadata": {},
   "outputs": [],
   "source": [
    "with open('DATA.pkl', 'wb') as outp:\n",
    "    pickle.dump(DATA, outp, pickle.HIGHEST_PROTOCOL)"
   ]
  },
  {
   "cell_type": "code",
   "execution_count": 2,
   "metadata": {},
   "outputs": [
    {
     "name": "stdout",
     "output_type": "stream",
     "text": [
      " https://files.wanikani.com/xg8ygnendcn6on94dwbl3t0yq2w9\n"
     ]
    }
   ],
   "source": [
    "#rad_hyerogliph/image\n",
    "# f = urllib.request.urlopen(URL_LVL_DICT_RAD[1][8]) \n",
    "# soup = BeautifulSoup(f)\n",
    "# a=soup.find(\"span\", class_=\"radical-icon\").text\n",
    "# link_pic=''\n",
    "# if not a:\n",
    "#     link_pic = soup.find('img',class_=\"radical-image\")['src']\n",
    "#     name='gun.png'\n",
    "#     urllib.request.urlretrieve(link_pic,name)\n",
    "# print(a,link_pic)"
   ]
  },
  {
   "cell_type": "code",
   "execution_count": 13,
   "metadata": {},
   "outputs": [
    {
     "data": {
      "text/plain": [
       "['abundant', 'plentiful']"
      ]
     },
     "execution_count": 13,
     "metadata": {},
     "output_type": "execute_result"
    }
   ],
   "source": [
    "#meanings\n",
    "# f = urllib.request.urlopen(URL_LVL_DICT_KAN[20][0]) \n",
    "# soup = BeautifulSoup(f)\n",
    "# list(map(lambda x: x.text.lower(),soup.find_all(\"p\", class_=\"text-gray-700\")))"
   ]
  },
  {
   "cell_type": "code",
   "execution_count": 16,
   "metadata": {},
   "outputs": [
    {
     "data": {
      "text/plain": [
       "'一人'"
      ]
     },
     "execution_count": 16,
     "metadata": {},
     "output_type": "execute_result"
    }
   ],
   "source": [
    "#hierogliphs for KAN and VOC!\n",
    "# f = urllib.request.urlopen(URL_LVL_DICT_VOC[1][1]) \n",
    "# soup = BeautifulSoup(f)\n",
    "# soup.head.title.text.split('/')[2].strip().split('/')[-1]"
   ]
  },
  {
   "cell_type": "code",
   "execution_count": 18,
   "metadata": {},
   "outputs": [
    {
     "name": "stdout",
     "output_type": "stream",
     "text": [
      "When there's one person, what are they? Well, they're either just going to be simply one person or alone.\n",
      "-----------------------------------------------------\n",
      "The reading for this vocab doesn't follow any rules you learned previously. It's an exception, which means you have to learn the reading separately too. Spend a few moments trying to remember this word, look away for 10 seconds, and then try to recall its reading. Could you do it? Try again, this time in thirty seconds. Did you do it again? Okay, go ahead and move on. You may know it now, though you'll need to recall it again in the next 5-10 minutes if you want to remember it for good. Alternatively, if you know the reading for the vocab word 一つ (in the same level as this word), you can know that it uses the same reading!\n"
     ]
    }
   ],
   "source": [
    "#mnem_meaning _ reading\n",
    "# f = urllib.request.urlopen(URL_LVL_DICT_VOC[1][1]) \n",
    "# soup = BeautifulSoup(f)\n",
    "# l=soup.find_all('section', class_=\"mnemonic-content mnemonic-content--new\")\n",
    "# print(l[0].text.replace('\\n\\n Hints\\n',' ').replace('\\n',' ').strip())\n",
    "# print('-----------------------------------------------------')\n",
    "# print(l[1].text.replace('\\n\\n Hints\\n',' ').replace('\\n',' ').strip())"
   ]
  },
  {
   "cell_type": "code",
   "execution_count": 43,
   "metadata": {},
   "outputs": [
    {
     "name": "stdout",
     "output_type": "stream",
     "text": [
      "WaniKani / Vocabulary / ハチの巣\n",
      "はちのす\n",
      "ハチのす\n"
     ]
    }
   ],
   "source": [
    "#readings _ VOC\n",
    "# f = urllib.request.urlopen(URL_LVL_DICT_VOC[31][8]) \n",
    "# soup = BeautifulSoup(f)\n",
    "# print(soup.head.title.text)\n",
    "# for i in soup.find_all('p', class_=\"pronunciation-variant\"):\n",
    "#     print(i.text)"
   ]
  },
  {
   "cell_type": "code",
   "execution_count": 38,
   "metadata": {},
   "outputs": [
    {
     "name": "stdout",
     "output_type": "stream",
     "text": [
      "WaniKani / Kanji / 越\n",
      "えつ\n"
     ]
    }
   ],
   "source": [
    "#main_readings\n",
    "# f = urllib.request.urlopen(URL_LVL_DICT_KAN[30][10]) \n",
    "# soup = BeautifulSoup(f)\n",
    "# print(soup.head.title.text)\n",
    "# for i in soup.find_all(\"div\", class_=\"span4 reading--onyomi\"):\n",
    "#     print(i.text.replace('On’yomi','').strip())\n",
    "# for i in soup.find_all(\"div\", class_=\"span4 reading--kunyomi\"):\n",
    "#     print(i.text.replace('Kun’yomi','').strip())"
   ]
  },
  {
   "cell_type": "code",
   "execution_count": 39,
   "metadata": {},
   "outputs": [
    {
     "name": "stdout",
     "output_type": "stream",
     "text": [
      "WaniKani / Kanji / 越\n",
      "こ\n"
     ]
    }
   ],
   "source": [
    "#secondary_readings\n",
    "# f = urllib.request.urlopen(URL_LVL_DICT_KAN[30][10]) \n",
    "# soup = BeautifulSoup(f)\n",
    "# print(soup.head.title.text)\n",
    "# for i in soup.find_all(\"div\", class_=\"span4 reading--kunyomi muted-content\"):\n",
    "#     print(i.text.replace('Kun’yomi','').strip())\n",
    "# for i in soup.find_all(\"div\", class_=\"span4 reading--onyomi muted-content\"):\n",
    "#     print(i.text.replace(\"On’yomi\",'').strip())"
   ]
  },
  {
   "cell_type": "code",
   "execution_count": 49,
   "metadata": {},
   "outputs": [
    {
     "name": "stdout",
     "output_type": "stream",
     "text": [
      "WaniKani / Vocabulary / 大人\n"
     ]
    },
    {
     "data": {
      "text/plain": [
       "'\\nContext\\n\\n\\n\\nContext Sentences\\n\\nこれは、大人のりょうきんです。\\nThis is the adult price.\\n\\n\\n大人は三人だけです。\\nThere are only three adults.\\n\\n\\n大人たちはいざかやにいった。\\nThe adults went to an izakaya.\\n\\n'"
      ]
     },
     "execution_count": 49,
     "metadata": {},
     "output_type": "execute_result"
    }
   ],
   "source": [
    "#contexrt sents\n",
    "# f = urllib.request.urlopen(URL_LVL_DICT_VOC[1][0]) \n",
    "# soup = BeautifulSoup(f)\n",
    "# print(soup.head.title.text)\n",
    "# soup.find('section', id=\"context\", class_=\"context-sentence\").text"
   ]
  }
 ],
 "metadata": {
  "kernelspec": {
   "display_name": "Python 3.10.0 64-bit",
   "language": "python",
   "name": "python3"
  },
  "language_info": {
   "codemirror_mode": {
    "name": "ipython",
    "version": 3
   },
   "file_extension": ".py",
   "mimetype": "text/x-python",
   "name": "python",
   "nbconvert_exporter": "python",
   "pygments_lexer": "ipython3",
   "version": "3.10.0"
  },
  "orig_nbformat": 4,
  "vscode": {
   "interpreter": {
    "hash": "7e1998ff7f8aa20ada591c520b972326324e5ea05489af9e422744c7c09f6dad"
   }
  }
 },
 "nbformat": 4,
 "nbformat_minor": 2
}

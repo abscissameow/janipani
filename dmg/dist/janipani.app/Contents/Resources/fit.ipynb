{
 "cells": [
  {
   "cell_type": "code",
   "execution_count": 1,
   "metadata": {},
   "outputs": [
    {
     "data": {
      "text/plain": [
       "'あ'"
      ]
     },
     "execution_count": 1,
     "metadata": {},
     "output_type": "execute_result"
    }
   ],
   "source": [
    "from converter import *\n",
    "from wanikani import *\n",
    "convert_('fa',1)"
   ]
  },
  {
   "cell_type": "code",
   "execution_count": 2,
   "metadata": {},
   "outputs": [],
   "source": [
    "from tqdm import tqdm\n",
    "import pickle\n",
    "from random import random\n",
    "import time"
   ]
  },
  {
   "cell_type": "code",
   "execution_count": 3,
   "metadata": {},
   "outputs": [],
   "source": [
    "with open('DATA.pkl', 'rb') as inp:\n",
    "    DATA=pickle.load(inp)"
   ]
  },
  {
   "cell_type": "code",
   "execution_count": null,
   "metadata": {},
   "outputs": [],
   "source": [
    "for i in DATA[2].values():\n",
    "    for k in i:\n",
    "        # t=time.time()-k.previous_review\n",
    "        # if t/3600/24>15:\n",
    "        #     k.previous_review+=5*3600*24\n",
    "        print(k.stage,k.meaning,k.type,(time.time()-k.previous_review)/3600/24)"
   ]
  },
  {
   "cell_type": "code",
   "execution_count": 125,
   "metadata": {},
   "outputs": [],
   "source": [
    "def text2int(textnum, numwords={}):\n",
    "    if textnum=='thousand':\n",
    "        return '1000'\n",
    "    elif textnum=='hundred':\n",
    "        return '100'\n",
    "    elif textnum=='million':\n",
    "        return '1000000'\n",
    "    if not numwords:\n",
    "      units = [\n",
    "        \"zero\", \"one\", \"two\", \"three\", \"four\", \"five\", \"six\", \"seven\", \"eight\",\n",
    "        \"nine\", \"ten\", \"eleven\", \"twelve\", \"thirteen\", \"fourteen\", \"fifteen\",\n",
    "        \"sixteen\", \"seventeen\", \"eighteen\", \"nineteen\",\n",
    "      ]\n",
    "\n",
    "      tens = [\"\", \"\", \"twenty\", \"thirty\", \"forty\", \"fifty\", \"sixty\", \"seventy\", \"eighty\", \"ninety\"]\n",
    "\n",
    "      scales = [\"hundred\", \"thousand\", \"million\", \"billion\", \"trillion\"]\n",
    "\n",
    "      numwords[\"and\"] = (1, 0)\n",
    "      for idx, word in enumerate(units):    numwords[word] = (1, idx)\n",
    "      for idx, word in enumerate(tens):     numwords[word] = (1, idx * 10)\n",
    "      for idx, word in enumerate(scales):   numwords[word] = (10 ** (idx * 3 or 2), 0)\n",
    "\n",
    "    current = result = 0\n",
    "    for word in textnum.split():\n",
    "        if word not in numwords:\n",
    "            return None\n",
    "\n",
    "        scale, increment = numwords[word]\n",
    "        current = current * scale + increment\n",
    "        if scale > 100:\n",
    "            result += current\n",
    "            current = 0\n",
    "\n",
    "    return str(result + current)\n",
    "\n",
    "def something(hye):\n",
    "    newmeaning=[]\n",
    "    for i in hye.meaning:\n",
    "        newmeaning.append(i.replace(' something',''))\n",
    "    hye.meaning=newmeaning\n",
    "\n",
    "badwords=['noun','verb','adverb','adjective','suffix','expression']\n",
    "def badmean(hye):\n",
    "    for word in hye.meaning[1:]:\n",
    "        ind=1\n",
    "        if word=='counter':\n",
    "            hye.meaning.remove(word)\n",
    "            continue\n",
    "        for part in word.split(' '):\n",
    "            if ind:\n",
    "                for bad in badwords:\n",
    "                    if bad == part:\n",
    "                        hye.meaning.remove(word)  \n",
    "                        ind=0 \n",
    "                        break    \n"
   ]
  },
  {
   "cell_type": "code",
   "execution_count": 126,
   "metadata": {},
   "outputs": [],
   "source": [
    "for i in range(60):\n",
    "    for j in DATA[i]['voc']:\n",
    "        badmean(j)"
   ]
  },
  {
   "cell_type": "code",
   "execution_count": 128,
   "metadata": {},
   "outputs": [],
   "source": [
    "counters=['times' ,'rank' ,'flat' ,'books' ,'small animal','machine','machines','persons','people','yen','things','thing','day','days']\n",
    "for i in range(60):\n",
    "    for j in DATA[i].values():\n",
    "        for k in j:\n",
    "            if k.type=='rad':\n",
    "                continue\n",
    "            something(k)\n",
    "            for m in k.meaning:\n",
    "                spl=m.split(' ')\n",
    "                for c in counters:\n",
    "                    if len(spl)==1:\n",
    "                        continue\n",
    "                    if spl[-1]==c:\n",
    "                        num=text2int(' '.join(spl[:-1]))\n",
    "                        if num and ((num+' '+c) not in k.meaning):\n",
    "                            k.meaning.append(num+' '+c)\n",
    "                loc=text2int(m)\n",
    "                if loc and (loc not in k.meaning):\n",
    "                    k.meaning.append(loc)\n"
   ]
  },
  {
   "cell_type": "code",
   "execution_count": 36,
   "metadata": {},
   "outputs": [],
   "source": [
    "lvl=0\n",
    "for i in DATA[lvl]['rad']:\n",
    "    i.stage=7\n",
    "    i.previous_review=time.time()-20*24*3600-10*random()\n",
    "for i in DATA[lvl]['kan']:\n",
    "    i.stage=7\n",
    "    i.previous_review=time.time()-20*24*3600-8*random()\n",
    "for i in DATA[lvl]['voc']:\n",
    "    i.stage=7\n",
    "    i.previous_review=time.time()-20*24*3600-6*random()\n",
    "lvl=1\n",
    "for i in DATA[lvl]['rad']:\n",
    "    i.stage=7\n",
    "    i.previous_review=time.time()-14*24*3600-10*random()\n",
    "for i in DATA[lvl]['kan']:\n",
    "    i.stage=7\n",
    "    i.previous_review=time.time()-14*24*3600-8*random()\n",
    "for i in DATA[lvl]['voc']:\n",
    "    i.stage=7\n",
    "    i.previous_review=time.time()-14*24*3600-4*random()\n",
    "lvl=2\n",
    "for i in DATA[lvl]['rad']:\n",
    "    i.stage=5\n",
    "    i.previous_review=time.time()-14*24*3600-10*random()\n",
    "for i in DATA[lvl]['kan']:\n",
    "    i.stage=5\n",
    "    i.previous_review=time.time()-14*24*3600-8*random()\n",
    "for i in DATA[lvl]['voc']:\n",
    "    i.stage=3+round(random())\n",
    "    i.previous_review=time.time()-14*24*3600-5*random()\n"
   ]
  },
  {
   "cell_type": "code",
   "execution_count": 37,
   "metadata": {},
   "outputs": [],
   "source": [
    "with open('DATA.pkl', 'wb') as outp:\n",
    "    pickle.dump(DATA, outp, pickle.HIGHEST_PROTOCOL)"
   ]
  }
 ],
 "metadata": {
  "kernelspec": {
   "display_name": "Python 3.10.0 64-bit",
   "language": "python",
   "name": "python3"
  },
  "language_info": {
   "codemirror_mode": {
    "name": "ipython",
    "version": 3
   },
   "file_extension": ".py",
   "mimetype": "text/x-python",
   "name": "python",
   "nbconvert_exporter": "python",
   "pygments_lexer": "ipython3",
   "version": "3.10.0"
  },
  "orig_nbformat": 4,
  "vscode": {
   "interpreter": {
    "hash": "7e1998ff7f8aa20ada591c520b972326324e5ea05489af9e422744c7c09f6dad"
   }
  }
 },
 "nbformat": 4,
 "nbformat_minor": 2
}
